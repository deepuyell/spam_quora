{
  "nbformat": 4,
  "nbformat_minor": 0,
  "metadata": {
    "accelerator": "GPU",
    "colab": {
      "name": "P3_Spam_Quora-Glove Embeddings.ipynb",
      "provenance": [],
      "collapsed_sections": []
    },
    "kernelspec": {
      "display_name": "Python 3",
      "language": "python",
      "name": "python3"
    },
    "language_info": {
      "codemirror_mode": {
        "name": "ipython",
        "version": 3
      },
      "file_extension": ".py",
      "mimetype": "text/x-python",
      "name": "python",
      "nbconvert_exporter": "python",
      "pygments_lexer": "ipython3",
      "version": "3.7.4"
    }
  },
  "cells": [
    {
      "cell_type": "code",
      "metadata": {
        "id": "ASgZBE7kV9Vr"
      },
      "source": [
        "import pandas as pd\n",
        "import numpy as np\n",
        "from sklearn.model_selection import train_test_split\n",
        "from nltk import word_tokenize\n",
        "from tensorflow.keras.preprocessing.text import Tokenizer\n",
        "from tensorflow.keras.preprocessing import sequence\n",
        "from tensorflow.keras.layers import LSTM, Activation, Dense, Dropout, Input, Embedding\n",
        "from tensorflow.keras.models import Model"
      ],
      "execution_count": null,
      "outputs": []
    },
    {
      "cell_type": "code",
      "metadata": {
        "colab": {
          "base_uri": "https://localhost:8080/"
        },
        "id": "Im9ySvaHV9Vy",
        "outputId": "ac4fce3e-ff38-4559-cc31-fb57d1390448"
      },
      "source": [
        "#file=r'https://www.dropbox.com/s/49kyq1xl2g7pp6y/train.csv?dl=0'\n",
        "#file=r'D:\\\\Edvancer\\\\deeplearning\\\\projects\\\\P3-spam quora\\\\train.csv'\n",
        "\n",
        "'''\n",
        "Download datasets\n",
        "'''\n",
        "!wget https://www.dropbox.com/s/49kyq1xl2g7pp6y/train.csv"
      ],
      "execution_count": 3,
      "outputs": [
        {
          "output_type": "stream",
          "text": [
            "--2021-03-31 18:11:02--  https://www.dropbox.com/s/49kyq1xl2g7pp6y/train.csv\n",
            "Resolving www.dropbox.com (www.dropbox.com)... 162.125.5.18, 2620:100:601d:18::a27d:512\n",
            "Connecting to www.dropbox.com (www.dropbox.com)|162.125.5.18|:443... connected.\n",
            "HTTP request sent, awaiting response... 301 Moved Permanently\n",
            "Location: /s/raw/49kyq1xl2g7pp6y/train.csv [following]\n",
            "--2021-03-31 18:11:02--  https://www.dropbox.com/s/raw/49kyq1xl2g7pp6y/train.csv\n",
            "Reusing existing connection to www.dropbox.com:443.\n",
            "HTTP request sent, awaiting response... 302 Found\n",
            "Location: https://uc60dfd11932f5de09fd6aae2ea2.dl.dropboxusercontent.com/cd/0/inline/BLuWwglbGQDowqUWoGozmO4--YcK9j3eHQTCIPH4_orOug8_6PUFYo0VjH2ANURSPLCP-GuE0XpYODzESDd640trMHPt1yvygUcH2gdvlFvb3g0d5CdNhVyzER3Kh4k6X0PQXE8SAvoMDHdXLrNtCbbD/file# [following]\n",
            "--2021-03-31 18:11:03--  https://uc60dfd11932f5de09fd6aae2ea2.dl.dropboxusercontent.com/cd/0/inline/BLuWwglbGQDowqUWoGozmO4--YcK9j3eHQTCIPH4_orOug8_6PUFYo0VjH2ANURSPLCP-GuE0XpYODzESDd640trMHPt1yvygUcH2gdvlFvb3g0d5CdNhVyzER3Kh4k6X0PQXE8SAvoMDHdXLrNtCbbD/file\n",
            "Resolving uc60dfd11932f5de09fd6aae2ea2.dl.dropboxusercontent.com (uc60dfd11932f5de09fd6aae2ea2.dl.dropboxusercontent.com)... 162.125.5.15, 2620:100:601d:15::a27d:50f\n",
            "Connecting to uc60dfd11932f5de09fd6aae2ea2.dl.dropboxusercontent.com (uc60dfd11932f5de09fd6aae2ea2.dl.dropboxusercontent.com)|162.125.5.15|:443... connected.\n",
            "HTTP request sent, awaiting response... 200 OK\n",
            "Length: 124206772 (118M) [text/plain]\n",
            "Saving to: ‘train.csv.1’\n",
            "\n",
            "train.csv.1         100%[===================>] 118.45M  59.0MB/s    in 2.0s    \n",
            "\n",
            "2021-03-31 18:11:05 (59.0 MB/s) - ‘train.csv.1’ saved [124206772/124206772]\n",
            "\n"
          ],
          "name": "stdout"
        }
      ]
    },
    {
      "cell_type": "code",
      "metadata": {
        "id": "X1Q_NpjI4sTZ"
      },
      "source": [
        "file=r'/content/train.csv'"
      ],
      "execution_count": 4,
      "outputs": []
    },
    {
      "cell_type": "code",
      "metadata": {
        "id": "swoxywy0V9V1"
      },
      "source": [
        "\n",
        "quora=pd.read_csv(file)"
      ],
      "execution_count": 5,
      "outputs": []
    },
    {
      "cell_type": "code",
      "metadata": {
        "colab": {
          "base_uri": "https://localhost:8080/",
          "height": 424
        },
        "id": "m3jBtOpKV9V4",
        "outputId": "0018e5d9-f631-434a-c499-1a42788272d5"
      },
      "source": [
        "quora"
      ],
      "execution_count": 6,
      "outputs": [
        {
          "output_type": "execute_result",
          "data": {
            "text/html": [
              "<div>\n",
              "<style scoped>\n",
              "    .dataframe tbody tr th:only-of-type {\n",
              "        vertical-align: middle;\n",
              "    }\n",
              "\n",
              "    .dataframe tbody tr th {\n",
              "        vertical-align: top;\n",
              "    }\n",
              "\n",
              "    .dataframe thead th {\n",
              "        text-align: right;\n",
              "    }\n",
              "</style>\n",
              "<table border=\"1\" class=\"dataframe\">\n",
              "  <thead>\n",
              "    <tr style=\"text-align: right;\">\n",
              "      <th></th>\n",
              "      <th>qid</th>\n",
              "      <th>question_text</th>\n",
              "      <th>target</th>\n",
              "    </tr>\n",
              "  </thead>\n",
              "  <tbody>\n",
              "    <tr>\n",
              "      <th>0</th>\n",
              "      <td>00002165364db923c7e6</td>\n",
              "      <td>How did Quebec nationalists see their province...</td>\n",
              "      <td>0</td>\n",
              "    </tr>\n",
              "    <tr>\n",
              "      <th>1</th>\n",
              "      <td>000032939017120e6e44</td>\n",
              "      <td>Do you have an adopted dog, how would you enco...</td>\n",
              "      <td>0</td>\n",
              "    </tr>\n",
              "    <tr>\n",
              "      <th>2</th>\n",
              "      <td>0000412ca6e4628ce2cf</td>\n",
              "      <td>Why does velocity affect time? Does velocity a...</td>\n",
              "      <td>0</td>\n",
              "    </tr>\n",
              "    <tr>\n",
              "      <th>3</th>\n",
              "      <td>000042bf85aa498cd78e</td>\n",
              "      <td>How did Otto von Guericke used the Magdeburg h...</td>\n",
              "      <td>0</td>\n",
              "    </tr>\n",
              "    <tr>\n",
              "      <th>4</th>\n",
              "      <td>0000455dfa3e01eae3af</td>\n",
              "      <td>Can I convert montra helicon D to a mountain b...</td>\n",
              "      <td>0</td>\n",
              "    </tr>\n",
              "    <tr>\n",
              "      <th>...</th>\n",
              "      <td>...</td>\n",
              "      <td>...</td>\n",
              "      <td>...</td>\n",
              "    </tr>\n",
              "    <tr>\n",
              "      <th>1306117</th>\n",
              "      <td>ffffcc4e2331aaf1e41e</td>\n",
              "      <td>What other technical skills do you need as a c...</td>\n",
              "      <td>0</td>\n",
              "    </tr>\n",
              "    <tr>\n",
              "      <th>1306118</th>\n",
              "      <td>ffffd431801e5a2f4861</td>\n",
              "      <td>Does MS in ECE have good job prospects in USA ...</td>\n",
              "      <td>0</td>\n",
              "    </tr>\n",
              "    <tr>\n",
              "      <th>1306119</th>\n",
              "      <td>ffffd48fb36b63db010c</td>\n",
              "      <td>Is foam insulation toxic?</td>\n",
              "      <td>0</td>\n",
              "    </tr>\n",
              "    <tr>\n",
              "      <th>1306120</th>\n",
              "      <td>ffffec519fa37cf60c78</td>\n",
              "      <td>How can one start a research project based on ...</td>\n",
              "      <td>0</td>\n",
              "    </tr>\n",
              "    <tr>\n",
              "      <th>1306121</th>\n",
              "      <td>ffffed09fedb5088744a</td>\n",
              "      <td>Who wins in a battle between a Wolverine and a...</td>\n",
              "      <td>0</td>\n",
              "    </tr>\n",
              "  </tbody>\n",
              "</table>\n",
              "<p>1306122 rows × 3 columns</p>\n",
              "</div>"
            ],
            "text/plain": [
              "                          qid  ... target\n",
              "0        00002165364db923c7e6  ...      0\n",
              "1        000032939017120e6e44  ...      0\n",
              "2        0000412ca6e4628ce2cf  ...      0\n",
              "3        000042bf85aa498cd78e  ...      0\n",
              "4        0000455dfa3e01eae3af  ...      0\n",
              "...                       ...  ...    ...\n",
              "1306117  ffffcc4e2331aaf1e41e  ...      0\n",
              "1306118  ffffd431801e5a2f4861  ...      0\n",
              "1306119  ffffd48fb36b63db010c  ...      0\n",
              "1306120  ffffec519fa37cf60c78  ...      0\n",
              "1306121  ffffed09fedb5088744a  ...      0\n",
              "\n",
              "[1306122 rows x 3 columns]"
            ]
          },
          "metadata": {
            "tags": []
          },
          "execution_count": 6
        }
      ]
    },
    {
      "cell_type": "code",
      "metadata": {
        "id": "oIuVk35nV9V6"
      },
      "source": [
        "quora_train,quora_test=train_test_split(quora,test_size=0.2,random_state=2)"
      ],
      "execution_count": 7,
      "outputs": []
    },
    {
      "cell_type": "code",
      "metadata": {
        "id": "UfcBNwTxV9V8"
      },
      "source": [
        "x_train=quora_train['question_text']\n",
        "y_train=quora_train['target']\n",
        "x_test=quora_test['question_text']\n",
        "y_test=quora_test['target']"
      ],
      "execution_count": 8,
      "outputs": []
    },
    {
      "cell_type": "code",
      "metadata": {
        "colab": {
          "base_uri": "https://localhost:8080/"
        },
        "id": "kZYdDGhEoo3x",
        "outputId": "207f6a8b-857f-4241-bc90-f13038423c8f"
      },
      "source": [
        "x_train.shape"
      ],
      "execution_count": 9,
      "outputs": [
        {
          "output_type": "execute_result",
          "data": {
            "text/plain": [
              "(1044897,)"
            ]
          },
          "metadata": {
            "tags": []
          },
          "execution_count": 9
        }
      ]
    },
    {
      "cell_type": "code",
      "metadata": {
        "colab": {
          "base_uri": "https://localhost:8080/"
        },
        "id": "uYLc6kFKoo3y",
        "outputId": "3aa9076a-8edc-4414-be8b-3ab2c4aa9094"
      },
      "source": [
        "x_test.shape"
      ],
      "execution_count": 10,
      "outputs": [
        {
          "output_type": "execute_result",
          "data": {
            "text/plain": [
              "(261225,)"
            ]
          },
          "metadata": {
            "tags": []
          },
          "execution_count": 10
        }
      ]
    },
    {
      "cell_type": "code",
      "metadata": {
        "colab": {
          "base_uri": "https://localhost:8080/"
        },
        "id": "xbXw833D5d2g",
        "outputId": "f66ccda3-3d55-4052-92a1-ba0d67d6c916"
      },
      "source": [
        "import nltk\n",
        "nltk.download('punkt')"
      ],
      "execution_count": 11,
      "outputs": [
        {
          "output_type": "stream",
          "text": [
            "[nltk_data] Downloading package punkt to /root/nltk_data...\n",
            "[nltk_data]   Unzipping tokenizers/punkt.zip.\n"
          ],
          "name": "stdout"
        },
        {
          "output_type": "execute_result",
          "data": {
            "text/plain": [
              "True"
            ]
          },
          "metadata": {
            "tags": []
          },
          "execution_count": 11
        }
      ]
    },
    {
      "cell_type": "code",
      "metadata": {
        "id": "gCqVx7lkV9WA"
      },
      "source": [
        "'''\n",
        "Here we are finding sentence with max words\n",
        "'''\n",
        "\n",
        "sent_lens=[]\n",
        "for sent in quora_train['question_text']:\n",
        "    sent_lens.append(len(word_tokenize(sent)))\n",
        "    \n",
        "    "
      ],
      "execution_count": 12,
      "outputs": []
    },
    {
      "cell_type": "code",
      "metadata": {
        "colab": {
          "base_uri": "https://localhost:8080/"
        },
        "id": "BXJ7JOCTV9WB",
        "outputId": "bff236f2-0f33-489c-e602-ced63d8ad1c7"
      },
      "source": [
        "max(sent_lens)"
      ],
      "execution_count": 13,
      "outputs": [
        {
          "output_type": "execute_result",
          "data": {
            "text/plain": [
              "412"
            ]
          },
          "metadata": {
            "tags": []
          },
          "execution_count": 13
        }
      ]
    },
    {
      "cell_type": "code",
      "metadata": {
        "id": "lVBhbF9UV9WD"
      },
      "source": [
        "# sent_lens"
      ],
      "execution_count": null,
      "outputs": []
    },
    {
      "cell_type": "code",
      "metadata": {
        "colab": {
          "base_uri": "https://localhost:8080/"
        },
        "id": "_lI6V3hCV9WG",
        "outputId": "cd5656e1-ce89-4775-a5f8-e1ee69e3c917"
      },
      "source": [
        "'''\n",
        "trying to find the 95 % of the sentences are less than equal to no of words\n",
        "'''\n",
        "np.quantile(sent_lens,0.95)\n"
      ],
      "execution_count": 14,
      "outputs": [
        {
          "output_type": "execute_result",
          "data": {
            "text/plain": [
              "30.0"
            ]
          },
          "metadata": {
            "tags": []
          },
          "execution_count": 14
        }
      ]
    },
    {
      "cell_type": "code",
      "metadata": {
        "id": "BflAd7aKV9WJ"
      },
      "source": [
        "# We can see that 95% review text are of lengths less than or equal to 30. We'll keep the max length to 30"
      ],
      "execution_count": null,
      "outputs": []
    },
    {
      "cell_type": "code",
      "metadata": {
        "id": "Kad7KgySV9WN"
      },
      "source": [
        "max_len = 30\n",
        "\n",
        "tok = Tokenizer(char_level=False,split=' ')\n",
        "\n",
        "tok.fit_on_texts(x_train)"
      ],
      "execution_count": 15,
      "outputs": []
    },
    {
      "cell_type": "code",
      "metadata": {
        "id": "qJiLBPoOV9WO"
      },
      "source": [
        "#tok.index_word"
      ],
      "execution_count": null,
      "outputs": []
    },
    {
      "cell_type": "code",
      "metadata": {
        "id": "487tttX4V9WR"
      },
      "source": [
        "sequences_train = tok.texts_to_sequences(x_train)"
      ],
      "execution_count": 16,
      "outputs": []
    },
    {
      "cell_type": "code",
      "metadata": {
        "id": "qBEfkaQHV9WS"
      },
      "source": [
        "# sequences_train"
      ],
      "execution_count": null,
      "outputs": []
    },
    {
      "cell_type": "code",
      "metadata": {
        "id": "NtLqrjtcoo4D"
      },
      "source": [
        "word_index=tok.word_index"
      ],
      "execution_count": 17,
      "outputs": []
    },
    {
      "cell_type": "code",
      "metadata": {
        "id": "ZiQZp4Y2V9WU"
      },
      "source": [
        "'''\n",
        "number of unique words in the x_train\n",
        "'''\n",
        "vocab_len=len(tok.index_word.keys())"
      ],
      "execution_count": 18,
      "outputs": []
    },
    {
      "cell_type": "code",
      "metadata": {
        "colab": {
          "base_uri": "https://localhost:8080/"
        },
        "id": "I6Egen-iV9WV",
        "scrolled": true,
        "outputId": "49134ac6-5bc3-47e9-e251-ef971c05637a"
      },
      "source": [
        "vocab_len"
      ],
      "execution_count": 19,
      "outputs": [
        {
          "output_type": "execute_result",
          "data": {
            "text/plain": [
              "196201"
            ]
          },
          "metadata": {
            "tags": []
          },
          "execution_count": 19
        }
      ]
    },
    {
      "cell_type": "code",
      "metadata": {
        "id": "Ouw16aRGV9WW"
      },
      "source": [
        "sequences_matrix_train = sequence.pad_sequences(sequences_train,maxlen=max_len)"
      ],
      "execution_count": 20,
      "outputs": []
    },
    {
      "cell_type": "code",
      "metadata": {
        "colab": {
          "base_uri": "https://localhost:8080/"
        },
        "id": "y7xUTZDRV9WX",
        "outputId": "2560a35c-f218-4492-b6db-e466593f4584"
      },
      "source": [
        "sequences_matrix_train"
      ],
      "execution_count": 21,
      "outputs": [
        {
          "output_type": "execute_result",
          "data": {
            "text/plain": [
              "array([[   0,    0,    0, ..., 5916,   44,  242],\n",
              "       [   0,    0,    0, ...,    5, 1602, 3144],\n",
              "       [   0,    0,    0, ...,  136,   18,  296],\n",
              "       ...,\n",
              "       [   0,    0,    0, ...,  392,    7,  678],\n",
              "       [   0,    0,    0, ...,    6,   28,  560],\n",
              "       [   0,    0,    0, ..., 5472,    6,  142]], dtype=int32)"
            ]
          },
          "metadata": {
            "tags": []
          },
          "execution_count": 21
        }
      ]
    },
    {
      "cell_type": "code",
      "metadata": {
        "id": "-yk_U6Yroo4I"
      },
      "source": [
        ""
      ],
      "execution_count": null,
      "outputs": []
    },
    {
      "cell_type": "code",
      "metadata": {
        "colab": {
          "base_uri": "https://localhost:8080/"
        },
        "id": "cNe0ayAJoo4I",
        "outputId": "7e80c7d3-9b7b-4423-906f-e05813328842"
      },
      "source": [
        "!wget 'http://nlp.stanford.edu/data/glove.6B.zip'\n",
        "!unzip '/content/glove.6B.zip'"
      ],
      "execution_count": 22,
      "outputs": [
        {
          "output_type": "stream",
          "text": [
            "--2021-03-31 18:24:47--  http://nlp.stanford.edu/data/glove.6B.zip\n",
            "Resolving nlp.stanford.edu (nlp.stanford.edu)... 171.64.67.140\n",
            "Connecting to nlp.stanford.edu (nlp.stanford.edu)|171.64.67.140|:80... connected.\n",
            "HTTP request sent, awaiting response... 302 Found\n",
            "Location: https://nlp.stanford.edu/data/glove.6B.zip [following]\n",
            "--2021-03-31 18:24:48--  https://nlp.stanford.edu/data/glove.6B.zip\n",
            "Connecting to nlp.stanford.edu (nlp.stanford.edu)|171.64.67.140|:443... connected.\n",
            "HTTP request sent, awaiting response... 301 Moved Permanently\n",
            "Location: http://downloads.cs.stanford.edu/nlp/data/glove.6B.zip [following]\n",
            "--2021-03-31 18:24:48--  http://downloads.cs.stanford.edu/nlp/data/glove.6B.zip\n",
            "Resolving downloads.cs.stanford.edu (downloads.cs.stanford.edu)... 171.64.64.22\n",
            "Connecting to downloads.cs.stanford.edu (downloads.cs.stanford.edu)|171.64.64.22|:80... connected.\n",
            "HTTP request sent, awaiting response... 200 OK\n",
            "Length: 862182613 (822M) [application/zip]\n",
            "Saving to: ‘glove.6B.zip’\n",
            "\n",
            "glove.6B.zip        100%[===================>] 822.24M  4.59MB/s    in 2m 47s  \n",
            "\n",
            "2021-03-31 18:27:35 (4.94 MB/s) - ‘glove.6B.zip’ saved [862182613/862182613]\n",
            "\n",
            "Archive:  /content/glove.6B.zip\n",
            "  inflating: glove.6B.50d.txt        \n",
            "  inflating: glove.6B.100d.txt       \n",
            "  inflating: glove.6B.200d.txt       \n",
            "  inflating: glove.6B.300d.txt       \n"
          ],
          "name": "stdout"
        }
      ]
    },
    {
      "cell_type": "code",
      "metadata": {
        "colab": {
          "base_uri": "https://localhost:8080/"
        },
        "id": "7WydUbiroo4J",
        "outputId": "0e906a8d-2ade-497d-e50f-4f7f49ea124d"
      },
      "source": [
        "'''\n",
        "Preparing the Embedding layer\n",
        "\n",
        "Next, we compute an index mapping words to known embeddings, by parsing the data dump of pre-trained embeddings:\n",
        "'''\n",
        "import os\n",
        "embeddings_index = {}\n",
        "f = open(os.path.join('/content/', r'glove.6B.100d.txt'))\n",
        "for line in f:\n",
        "    values = line.split()\n",
        "    word = values[0]\n",
        "    coefs = np.asarray(values[1:], dtype='float32')\n",
        "    embeddings_index[word] = coefs\n",
        "f.close()\n",
        "\n",
        "print('Found %s word vectors.' % len(embeddings_index))\n"
      ],
      "execution_count": 23,
      "outputs": [
        {
          "output_type": "stream",
          "text": [
            "Found 400000 word vectors.\n"
          ],
          "name": "stdout"
        }
      ]
    },
    {
      "cell_type": "code",
      "metadata": {
        "id": "UKZ2Me4yoo4K"
      },
      "source": [
        ""
      ],
      "execution_count": null,
      "outputs": []
    },
    {
      "cell_type": "code",
      "metadata": {
        "id": "0OQuIR4uoo4K"
      },
      "source": [
        "'''\n",
        "At this point we can leverage our embedding_index dictionary and our word_index to compute our embedding matrix:\n",
        "'''\n",
        "EMBEDDING_DIM=100\n",
        "embedding_matrix = np.zeros((len(word_index) + 1, EMBEDDING_DIM))\n",
        "for word, i in word_index.items():\n",
        "    embedding_vector = embeddings_index.get(word)\n",
        "    if embedding_vector is not None:\n",
        "        # words not found in embedding index will be all-zeros.\n",
        "        embedding_matrix[i] = embedding_vector\n"
      ],
      "execution_count": 24,
      "outputs": []
    },
    {
      "cell_type": "code",
      "metadata": {
        "id": "l9xCIaKvoo4L"
      },
      "source": [
        "'''\n",
        "We load this embedding matrix into an Embedding layer. Note that we set trainable=False to prevent the weights from being updated during training.\n",
        "'''\n",
        "\n",
        "from keras.layers import Embedding\n",
        "\n",
        "embedding_layer = Embedding(len(word_index) + 1,\n",
        "                            EMBEDDING_DIM,\n",
        "                            weights=[embedding_matrix],\n",
        "                            input_length=max_len,\n",
        "                            trainable=False)\n"
      ],
      "execution_count": 25,
      "outputs": []
    },
    {
      "cell_type": "code",
      "metadata": {
        "id": "BiafG2WAoo4L"
      },
      "source": [
        ""
      ],
      "execution_count": null,
      "outputs": []
    },
    {
      "cell_type": "code",
      "metadata": {
        "id": "kLztdTtDoo4M"
      },
      "source": [
        ""
      ],
      "execution_count": null,
      "outputs": []
    },
    {
      "cell_type": "code",
      "metadata": {
        "id": "i4xBZjDUV9WZ"
      },
      "source": [
        "def RNN():\n",
        "    inputs = Input(name='inputs',shape=[max_len])\n",
        "    \n",
        "    #layer = Embedding(vocab_len+1,500,input_length=max_len, mask_zero=True)(inputs)\n",
        "    embedded_sequences = embedding_layer(inputs)\n",
        "    layer = LSTM(64)(embedded_sequences)\n",
        "    layer = Dense(256,name='FC1')(layer)\n",
        "    layer = Activation('relu')(layer)\n",
        "    layer = Dropout(0.5)(layer)\n",
        "    layer = Dense(1,name='out_layer')(layer)\n",
        "    layer = Activation('sigmoid')(layer)\n",
        "    model = Model(inputs=inputs,outputs=layer)\n",
        "    return model\n",
        "\n"
      ],
      "execution_count": 26,
      "outputs": []
    },
    {
      "cell_type": "code",
      "metadata": {
        "colab": {
          "base_uri": "https://localhost:8080/"
        },
        "id": "dzzjCbPJV9Wa",
        "outputId": "b033cf6b-6549-40b0-9266-78386975b1d7"
      },
      "source": [
        "model = RNN()\n",
        "model.summary()"
      ],
      "execution_count": 27,
      "outputs": [
        {
          "output_type": "stream",
          "text": [
            "Model: \"model\"\n",
            "_________________________________________________________________\n",
            "Layer (type)                 Output Shape              Param #   \n",
            "=================================================================\n",
            "inputs (InputLayer)          [(None, 30)]              0         \n",
            "_________________________________________________________________\n",
            "embedding (Embedding)        (None, 30, 100)           19620200  \n",
            "_________________________________________________________________\n",
            "lstm (LSTM)                  (None, 64)                42240     \n",
            "_________________________________________________________________\n",
            "FC1 (Dense)                  (None, 256)               16640     \n",
            "_________________________________________________________________\n",
            "activation (Activation)      (None, 256)               0         \n",
            "_________________________________________________________________\n",
            "dropout (Dropout)            (None, 256)               0         \n",
            "_________________________________________________________________\n",
            "out_layer (Dense)            (None, 1)                 257       \n",
            "_________________________________________________________________\n",
            "activation_1 (Activation)    (None, 1)                 0         \n",
            "=================================================================\n",
            "Total params: 19,679,337\n",
            "Trainable params: 59,137\n",
            "Non-trainable params: 19,620,200\n",
            "_________________________________________________________________\n"
          ],
          "name": "stdout"
        }
      ]
    },
    {
      "cell_type": "code",
      "metadata": {
        "id": "aHe6IuwKV9Wc"
      },
      "source": [
        "model.compile(loss='binary_crossentropy',optimizer='adam',\n",
        "              metrics=['accuracy'])"
      ],
      "execution_count": 28,
      "outputs": []
    },
    {
      "cell_type": "code",
      "metadata": {
        "id": "sQ6I6lW3V9Wd"
      },
      "source": [
        "sequences_test = tok.texts_to_sequences(x_test)\n",
        "sequences_matrix_test = sequence.pad_sequences(sequences_test,\n",
        "                                               maxlen=max_len)"
      ],
      "execution_count": 29,
      "outputs": []
    },
    {
      "cell_type": "code",
      "metadata": {
        "colab": {
          "base_uri": "https://localhost:8080/"
        },
        "id": "aoz2AGiiV9Wf",
        "outputId": "90dce871-3b0f-4648-ee7a-889f0818b3af"
      },
      "source": [
        "model.fit(sequences_matrix_train,y_train.values,batch_size=500,\n",
        "          epochs=10,validation_data=(sequences_matrix_test,y_test.values))"
      ],
      "execution_count": 30,
      "outputs": [
        {
          "output_type": "stream",
          "text": [
            "Epoch 1/10\n",
            "2090/2090 [==============================] - 46s 7ms/step - loss: 0.1580 - accuracy: 0.9430 - val_loss: 0.1212 - val_accuracy: 0.9525\n",
            "Epoch 2/10\n",
            "2090/2090 [==============================] - 15s 7ms/step - loss: 0.1190 - accuracy: 0.9534 - val_loss: 0.1128 - val_accuracy: 0.9554\n",
            "Epoch 3/10\n",
            "2090/2090 [==============================] - 15s 7ms/step - loss: 0.1122 - accuracy: 0.9560 - val_loss: 0.1104 - val_accuracy: 0.9563\n",
            "Epoch 4/10\n",
            "2090/2090 [==============================] - 15s 7ms/step - loss: 0.1072 - accuracy: 0.9578 - val_loss: 0.1098 - val_accuracy: 0.9567\n",
            "Epoch 5/10\n",
            "2090/2090 [==============================] - 15s 7ms/step - loss: 0.1046 - accuracy: 0.9587 - val_loss: 0.1088 - val_accuracy: 0.9572\n",
            "Epoch 6/10\n",
            "2090/2090 [==============================] - 15s 7ms/step - loss: 0.1023 - accuracy: 0.9592 - val_loss: 0.1082 - val_accuracy: 0.9572\n",
            "Epoch 7/10\n",
            "2090/2090 [==============================] - 15s 7ms/step - loss: 0.0994 - accuracy: 0.9602 - val_loss: 0.1119 - val_accuracy: 0.9563\n",
            "Epoch 8/10\n",
            "2090/2090 [==============================] - 15s 7ms/step - loss: 0.0984 - accuracy: 0.9606 - val_loss: 0.1089 - val_accuracy: 0.9577\n",
            "Epoch 9/10\n",
            "2090/2090 [==============================] - 15s 7ms/step - loss: 0.0958 - accuracy: 0.9613 - val_loss: 0.1098 - val_accuracy: 0.9575\n",
            "Epoch 10/10\n",
            "2090/2090 [==============================] - 15s 7ms/step - loss: 0.0949 - accuracy: 0.9617 - val_loss: 0.1087 - val_accuracy: 0.9570\n"
          ],
          "name": "stdout"
        },
        {
          "output_type": "execute_result",
          "data": {
            "text/plain": [
              "<tensorflow.python.keras.callbacks.History at 0x7f83cdd23690>"
            ]
          },
          "metadata": {
            "tags": []
          },
          "execution_count": 30
        }
      ]
    },
    {
      "cell_type": "code",
      "metadata": {
        "id": "KzoItCYsV9Wg"
      },
      "source": [
        "predictions=model.predict(sequences_matrix_test)"
      ],
      "execution_count": 31,
      "outputs": []
    },
    {
      "cell_type": "code",
      "metadata": {
        "id": "GNIanxFQV9Wh"
      },
      "source": [
        "from sklearn.metrics import roc_auc_score"
      ],
      "execution_count": 32,
      "outputs": []
    },
    {
      "cell_type": "code",
      "metadata": {
        "colab": {
          "base_uri": "https://localhost:8080/"
        },
        "id": "P5-lgE1CV9Wi",
        "outputId": "c4bf0779-ea75-4f0c-d99c-da7f05e244c0"
      },
      "source": [
        "roc_auc_score(y_test,predictions)"
      ],
      "execution_count": 33,
      "outputs": [
        {
          "output_type": "execute_result",
          "data": {
            "text/plain": [
              "0.958098073295852"
            ]
          },
          "metadata": {
            "tags": []
          },
          "execution_count": 33
        }
      ]
    },
    {
      "cell_type": "code",
      "metadata": {
        "id": "nHdGKKTTV9Wl"
      },
      "source": [
        ""
      ],
      "execution_count": null,
      "outputs": []
    }
  ]
}